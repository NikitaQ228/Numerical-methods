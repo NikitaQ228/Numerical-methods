{
 "cells": [
  {
   "cell_type": "code",
   "execution_count": 38,
   "metadata": {},
   "outputs": [],
   "source": [
    "import numpy as np\n",
    "import matplotlib.pyplot as plt\n",
    "import scipy.linalg as la\n",
    "from prettytable import PrettyTable"
   ]
  },
  {
   "cell_type": "markdown",
   "metadata": {},
   "source": [
    "# Задание 1"
   ]
  },
  {
   "cell_type": "markdown",
   "metadata": {},
   "source": [
    "Создать квадратную матрицу из случайных целых чисел из [-3,3] размера 10."
   ]
  },
  {
   "cell_type": "code",
   "execution_count": 39,
   "metadata": {},
   "outputs": [
    {
     "name": "stdout",
     "output_type": "stream",
     "text": [
      "Исходная матрица:\n",
      "[[ 1 -1  3 -3 -3 -1  3 -1  2  1]\n",
      " [-1  2  3 -1 -2  3 -3 -2  2 -2]\n",
      " [ 0 -1  2  3  0 -1  0  1  1 -1]\n",
      " [ 2  0  3 -2  1 -2  2  2 -3 -3]\n",
      " [-1 -3 -2 -2  1 -1  1  3 -3  3]\n",
      " [ 2  0 -1  0  3 -3  0 -2 -3  0]\n",
      " [ 3  2  2  0 -1 -1  0 -1 -2  0]\n",
      " [-3 -3  0 -2  1  2 -1 -2  3 -3]\n",
      " [-2  3 -1  0 -1  2 -3  0  0 -3]\n",
      " [-2 -2  1  3 -3 -3  1 -1 -3  0]]\n"
     ]
    }
   ],
   "source": [
    "matrix = np.random.randint(-3, 4, (10, 10))\n",
    "print(\"Исходная матрица:\")\n",
    "print(matrix)"
   ]
  },
  {
   "cell_type": "markdown",
   "metadata": {},
   "source": [
    "Найти и вычислить минор 4 порядка, расположенный на пересечении 2,3,4,5 строк и 7,8,9,10 столбцов.\n",
    "Использовать срезы матрицы."
   ]
  },
  {
   "cell_type": "code",
   "execution_count": 40,
   "metadata": {},
   "outputs": [
    {
     "name": "stdout",
     "output_type": "stream",
     "text": [
      "\n",
      "Минор 4-го порядка:\n",
      "[[-3 -2  2 -2]\n",
      " [ 0  1  1 -1]\n",
      " [ 2  2 -3 -3]\n",
      " [ 1  3 -3  3]]\n",
      "\n",
      "Определитель минора 4-го порядка:\n",
      "83.99999999999999\n"
     ]
    }
   ],
   "source": [
    "minor = matrix[1:5, 6:]\n",
    "determinant = np.linalg.det(minor)\n",
    "\n",
    "print(\"\\nМинор 4-го порядка:\")\n",
    "print(minor)\n",
    "print(\"\\nОпределитель минора 4-го порядка:\")\n",
    "print(determinant)"
   ]
  },
  {
   "cell_type": "markdown",
   "metadata": {},
   "source": [
    "# Задание 2"
   ]
  },
  {
   "cell_type": "markdown",
   "metadata": {},
   "source": [
    "Создать вектор-строку 1x10 из случайных целых чисел. "
   ]
  },
  {
   "cell_type": "code",
   "execution_count": 41,
   "metadata": {},
   "outputs": [
    {
     "name": "stdout",
     "output_type": "stream",
     "text": [
      "Вектор-строка:\n",
      "[[-3 -2  0 -2 -6  5 -4  5 -8 -8]]\n"
     ]
    }
   ],
   "source": [
    "vector = np.random.randint(-10, 11, size=(1, 10))\n",
    "print(\"Вектор-строка:\")\n",
    "print(vector)"
   ]
  },
  {
   "cell_type": "markdown",
   "metadata": {},
   "source": [
    "Вычислить норму ||x||1 самостоятельно написанной функцией и проверить результат с помощью linalg.norm() в Python."
   ]
  },
  {
   "cell_type": "code",
   "execution_count": 42,
   "metadata": {},
   "outputs": [
    {
     "name": "stdout",
     "output_type": "stream",
     "text": [
      "\n",
      "Норма, вычисленная самостоятельно: 15.716233645501712\n",
      "Норма, вычисленная с использованием linalg.norm(): 15.716233645501712\n"
     ]
    }
   ],
   "source": [
    "def custom_norm(vector):\n",
    "    norm_value = np.sqrt(np.sum(np.square(vector)))\n",
    "    return norm_value\n",
    "\n",
    "custom_norm_result = custom_norm(vector)\n",
    "\n",
    "norm_np = np.linalg.norm(vector)\n",
    "\n",
    "print(\"\\nНорма, вычисленная самостоятельно:\", custom_norm_result)\n",
    "print(\"Норма, вычисленная с использованием linalg.norm():\", norm_np)"
   ]
  },
  {
   "cell_type": "markdown",
   "metadata": {},
   "source": [
    "# Задание 3"
   ]
  },
  {
   "cell_type": "markdown",
   "metadata": {},
   "source": [
    "Создать матрицу из случайных целых чисел."
   ]
  },
  {
   "cell_type": "code",
   "execution_count": 43,
   "metadata": {},
   "outputs": [
    {
     "name": "stdout",
     "output_type": "stream",
     "text": [
      "Матрица:\n",
      "[[ -7  -8  10   0   0]\n",
      " [  4   3   4  -5  -4]\n",
      " [ -6   3  -1   2  -2]\n",
      " [ -6   2  10  -8  10]\n",
      " [  8   0  -3   4 -10]]\n"
     ]
    }
   ],
   "source": [
    "matrix = np.random.randint(-10, 11, size=(5, 5))\n",
    "print(\"Матрица:\")\n",
    "print(matrix)"
   ]
  },
  {
   "cell_type": "markdown",
   "metadata": {},
   "source": [
    "Найти \n",
    "спектральную норму матрицы с помощью самостоятельно \n",
    "написанного алгоритма (можно использовать функцию для \n",
    "нахождения собственных значений), проверить результат с \n",
    "помощью linalg.norm() Python."
   ]
  },
  {
   "cell_type": "code",
   "execution_count": 44,
   "metadata": {},
   "outputs": [
    {
     "name": "stdout",
     "output_type": "stream",
     "text": [
      "Спектральная норма, вычисленная самостоятельно: 23.16405878082811\n",
      "Спектральная норма, вычисленная с использованием linalg.norm(): 23.16405878082811\n"
     ]
    }
   ],
   "source": [
    "def custom_spectral_norm(matrix):\n",
    "        # Вычисление собственных значений\n",
    "        eigenvalues = np.linalg.svd(matrix, compute_uv=False)\n",
    "        # Спектральная норма - максимальный по модулю собственный значение\n",
    "        spectral_norm = max(abs(eigenvalues))\n",
    "        return spectral_norm\n",
    "\n",
    "# Вычисление спектральной нормы с помощью самописного алгоритма\n",
    "custom_spectral_norm_result = custom_spectral_norm(matrix)\n",
    "# Вычисление спектральной нормы с использованием linalg.norm()\n",
    "spectral_norm_np = np.linalg.norm(matrix, 2)\n",
    "print(\"Спектральная норма, вычисленная самостоятельно:\", custom_spectral_norm_result)\n",
    "print(\"Спектральная норма, вычисленная с использованием linalg.norm():\", spectral_norm_np)"
   ]
  },
  {
   "cell_type": "markdown",
   "metadata": {},
   "source": [
    "# Задание 4"
   ]
  },
  {
   "cell_type": "markdown",
   "metadata": {},
   "source": [
    "Найти псевдорешение системы"
   ]
  },
  {
   "cell_type": "code",
   "execution_count": 45,
   "metadata": {},
   "outputs": [
    {
     "name": "stdout",
     "output_type": "stream",
     "text": [
      "Система уравнений:\n",
      "4.4x1 + -2.5x2 + 19.2x3 + -10.8x4 = 4.3\n",
      "5.5x1 + -9.3x2 + -14.2x3 + 13.2x4 = 6.8\n",
      "7.1x1 + -11.5x2 + 5.3x3 + -6.7x4 = -1.8\n",
      "14.2x1 + 23.4x2 + -8.8x3 + 5.3x4 = 7.2\n",
      "8.2x1 + -3.2x2 + 14.2x3 + 14.8x4 = -8.4\n",
      "Псевдорешение системы:\n",
      "[ 0.38466722  0.02588808 -0.34336072 -0.32744471]\n"
     ]
    }
   ],
   "source": [
    "# A * x = b\n",
    "A = np.array([[4.4, -2.5, 19.2, -10.8], [5.5, -9.3, -14.2, 13.2], [7.1, -11.5, 5.3, -6.7], [14.2, 23.4, -8.8, 5.3], [8.2, -3.2, 14.2, 14.8]])\n",
    "b = np.array([4.3, 6.8, -1.8, 7.2, -8.4])\n",
    "# Находим псевдорешение с помощью метода наименьших квадратов\n",
    "x_pseudo = np.linalg.lstsq(A, b, rcond=None)[0]\n",
    "print(\"Система уравнений:\")\n",
    "for i in range(len(A)):\n",
    "    equation = \" + \".join(f\"{A[i][j]}x{j+1}\" for j in range(len(A[i])))\n",
    "    print(f\"{equation} = {b[i]}\")\n",
    "print(\"Псевдорешение системы:\")\n",
    "print(x_pseudo)"
   ]
  },
  {
   "cell_type": "markdown",
   "metadata": {},
   "source": [
    "# Задание 5"
   ]
  },
  {
   "cell_type": "markdown",
   "metadata": {},
   "source": [
    "Даны пять точек (20; 15), (30; 40), (40; 21), (50, 65), (60, 54). \n",
    "Найти уравнение наиболее выгодной траектории. \n",
    "Построить график."
   ]
  },
  {
   "cell_type": "code",
   "execution_count": 46,
   "metadata": {},
   "outputs": [
    {
     "data": {
      "image/png": "[encoded data removed]",
      "text/plain": [
       "<Figure size 640x480 with 1 Axes>"
      ]
     },
     "metadata": {},
     "output_type": "display_data"
    },
    {
     "name": "stdout",
     "output_type": "stream",
     "text": [
      "Уравнение наиболее выгодной траектории (квадратичная функция):\n",
      "           2\n",
      "-0.006429 x + 1.544 x - 11.2\n"
     ]
    }
   ],
   "source": [
    "points = np.array([[20, 15], [30, 40], [40, 21], [50, 65], [60, 54]])\n",
    "# Извлечение координат x и y из точек\n",
    "x = points[:, 0]\n",
    "y = points[:, 1]\n",
    "# Аппроксимация данных с помощью полинома второй степени (квадратичная функция)\n",
    "poly_coeffs = np.polyfit(x, y, 2)\n",
    "poly = np.poly1d(poly_coeffs)\n",
    "# Создание данных для построения аппроксимированной кривой\n",
    "x_curve = np.linspace(min(x), max(x), 100)\n",
    "y_curve = poly(x_curve)\n",
    "# Построение графика точек и аппроксимированной кривой\n",
    "plt.figure()\n",
    "plt.scatter(x, y, color='blue', label='Заданные точки')\n",
    "plt.plot(x_curve, y_curve, color='red', label='Аппроксимированная траектория')\n",
    "plt.xlabel('x')\n",
    "plt.ylabel('y')\n",
    "plt.title('Аппроксимация траектории')\n",
    "plt.legend()\n",
    "plt.grid(True)\n",
    "plt.show()\n",
    "# Вывод уравнения аппроксимированной траектории\n",
    "print(\"Уравнение наиболее выгодной траектории (квадратичная функция):\")\n",
    "print(poly)"
   ]
  },
  {
   "cell_type": "markdown",
   "metadata": {},
   "source": [
    "# Задание 6"
   ]
  },
  {
   "cell_type": "markdown",
   "metadata": {},
   "source": [
    "Решить систему, используя LU разложение матрицы. LU разложение должно быть найдено самостоятельно \n",
    "написанной функцией, полученные матрицы выведены на \n",
    "экран. Придерживаться плана решения, приведенного в \n",
    "пособии! Решение системы должно быть проверено встроенной\n",
    "функцией Python.\n"
   ]
  },
  {
   "cell_type": "code",
   "execution_count": 47,
   "metadata": {},
   "outputs": [
    {
     "name": "stdout",
     "output_type": "stream",
     "text": [
      "Система уравнений:\n",
      "4.4x1 + -2.5x2 + 19.2x3 + -10.8x4 = 4.3\n",
      "5.5x1 + -9.3x2 + -14.2x3 + 13.2x4 = 6.8\n",
      "7.1x1 + -11.5x2 + 5.3x3 + -6.7x4 = -1.8\n",
      "14.2x1 + 23.4x2 + -8.8x3 + 5.3x4 = 7.2\n",
      "[[  1.           0.           0.           0.        ]\n",
      " [  1.25         1.           0.           0.        ]\n",
      " [  1.61363636   1.2090541    1.           0.        ]\n",
      " [  3.22727273  -5.09606183 -12.94540428   1.        ]] \n",
      " [[   4.4          -2.5          19.2         -10.8       ]\n",
      " [   0.           -6.175       -38.2          26.7       ]\n",
      " [   0.            0.           20.50404858  -21.55447184]\n",
      " [   0.            0.            0.         -102.81195577]]\n"
     ]
    }
   ],
   "source": [
    "def check_matrix(A):\n",
    "    return (A.shape[0]==A.shape[1]) and (np.linalg.det(A)!=0)\n",
    "\n",
    "def LU (A) :\n",
    "    if not check_matrix(A):\n",
    "        return 0,0\n",
    "    n=A.shape[0]\n",
    "    U = np.zeros((n,n), float)\n",
    "    L = np.identity(n, float)\n",
    "\n",
    "    for i in range (n):\n",
    "        for j in range (n):\n",
    "            if i<=j:\n",
    "                U[i,j]=A[i,j]-np.dot(L[i,:i], U[:i,j])\n",
    "            else:\n",
    "                L[i,j]=(A[i,j]-np.dot(L[i,:j], U[:j,j]))/U[j,j]\n",
    "    return L,U\n",
    "\n",
    "A = np.array([[4.4, -2.5, 19.2, -10.8], [5.5, -9.3, -14.2, 13.2], [7.1, -11.5, 5.3, -6.7], [14.2, 23.4, -8.8, 5.3]])\n",
    "B = np.array([4.3, 6.8, -1.8, 7.2])\n",
    "print(\"Система уравнений:\")\n",
    "for i in range(len(A)):\n",
    "    equation = \" + \".join(f\"{A[i][j]}x{j+1}\" for j in range(len(A[i])))\n",
    "    print(f\"{equation} = {b[i]}\")\n",
    "L, U= LU(A)\n",
    "print(L,'\\n', U)"
   ]
  },
  {
   "cell_type": "code",
   "execution_count": 48,
   "metadata": {},
   "outputs": [
    {
     "name": "stdout",
     "output_type": "stream",
     "text": [
      "[[   4.3       ]\n",
      " [   1.425     ]\n",
      " [ -10.46153846]\n",
      " [-134.84422944]]\n"
     ]
    }
   ],
   "source": [
    "def dir_sub (A, B): #прямая подстановка\n",
    "    x=np.zeros((A.shape[0],1), float)\n",
    "\n",
    "    x[0] = B[0]\n",
    "    for i in range (1,A.shape[0]):\n",
    "        x[i]= B[i] - np.dot(A[i, :i], x[:i])\n",
    "    return x\n",
    "\n",
    "y=dir_sub(L, B)\n",
    "print(y)"
   ]
  },
  {
   "cell_type": "code",
   "execution_count": 49,
   "metadata": {},
   "outputs": [
    {
     "name": "stdout",
     "output_type": "stream",
     "text": [
      "n = 4\n",
      "x_n = [1.31156176]\n",
      "x_2 = [0.86853494]\n",
      "x_1 = [0.06731407]\n",
      "x_0 = [0.44483668]\n"
     ]
    }
   ],
   "source": [
    "def rev_sub(A, B): #обратная подстановка\n",
    "    n=np.size(B)\n",
    "    print(\"n =\", n)\n",
    "    x=np.zeros_like(B)\n",
    "\n",
    "    x[-1]=B[-1]/A[-1,-1]\n",
    "    print(\"x_n =\", x[-1])\n",
    "    for i in range(n-2, -1, -1):\n",
    "        x[i]=(B[i]-np.sum(np.dot(A[i, i+1:], x[i+1:])))/A[i,i]\n",
    "        print (f\"x_{i} = {x[i]}\")\n",
    "    return x\n",
    "\n",
    "x=rev_sub(U, y)"
   ]
  },
  {
   "cell_type": "code",
   "execution_count": 50,
   "metadata": {},
   "outputs": [
    {
     "data": {
      "text/plain": [
       "array([0.44483668, 0.06731407, 0.86853494, 1.31156176])"
      ]
     },
     "execution_count": 50,
     "metadata": {},
     "output_type": "execute_result"
    }
   ],
   "source": [
    "np.linalg.solve(A, B)"
   ]
  },
  {
   "cell_type": "markdown",
   "metadata": {},
   "source": [
    "# Задание 7"
   ]
  },
  {
   "cell_type": "markdown",
   "metadata": {},
   "source": [
    "Решить систему из пункта 6 с помощью QR разложения \n",
    "матрицы А. QR разложение найти методом Хаусхолдера. \n",
    "Придерживаться плана решения, приведенного в пособии!\n",
    "Проверить полученное решение непосредственной \n",
    "подстановкой в исходную систему, а также методом \n",
    "np.solve."
   ]
  },
  {
   "cell_type": "code",
   "execution_count": 51,
   "metadata": {},
   "outputs": [
    {
     "name": "stdout",
     "output_type": "stream",
     "text": [
      "Система уравнений:\n",
      "4.4x1 + -2.5x2 + 19.2x3 + -10.8x4 = 4.3\n",
      "5.5x1 + -9.3x2 + -14.2x3 + 13.2x4 = 6.8\n",
      "7.1x1 + -11.5x2 + 5.3x3 + -6.7x4 = -1.8\n",
      "14.2x1 + 23.4x2 + -8.8x3 + 5.3x4 = 7.2\n",
      "Проверка правильности найденного QR разложения\n",
      "[[  4.4  -2.5  19.2 -10.8]\n",
      " [  5.5  -9.3 -14.2  13.2]\n",
      " [  7.1 -11.5   5.3  -6.7]\n",
      " [ 14.2  23.4  -8.8   5.3]]\n",
      "[[ 0.25333419 -0.20513523  0.77135795  0.54657867]\n",
      " [ 0.31666774 -0.49773569 -0.61068324  0.52824871]\n",
      " [ 0.40878927 -0.62277856  0.15917782 -0.64784306]\n",
      " [ 0.81757854  0.56773726 -0.08206899 -0.05004425]] \n",
      " [[ 1.73683620e+01  1.08519157e+01 -4.66077341e+00  3.03828305e+00]\n",
      " [-2.06873612e-15  2.55887852e+01 -5.16756380e+00  2.82697315e+00]\n",
      " [ 1.31008998e-15  7.18923040e-16  2.50476241e+01 -1.78931417e+01]\n",
      " [ 3.15806084e-15  2.88830808e-15 -7.45844684e-15  5.14514729e+00]]\n"
     ]
    }
   ],
   "source": [
    "def QR (A) : #QR разложение матрицы А\n",
    "    if not check_matrix(A):\n",
    "       return 0,0\n",
    "    #метод Грамма-Шмидта\n",
    "    #Q — унитарная матрица размера nxn, а R — верхнетреугольная матрица размера nxn.\n",
    "    Q=np.zeros_like(A)\n",
    "    cnt=0\n",
    "    for a in A.T:\n",
    "        u = np.copy(a)\n",
    "        for i in range(0, cnt):\n",
    "            u-=np.dot(np.dot(Q[:,i].T, a), Q[:,i]) #ортогонализируем\n",
    "        e = u / np.linalg.norm(u) #нормируем матрицу\n",
    "        Q[:,cnt] = e\n",
    "        cnt+=1\n",
    "    R=np.dot(Q.T, A)\n",
    "    return Q, R\n",
    "\n",
    "print(\"Система уравнений:\")\n",
    "for i in range(len(A)):\n",
    "    equation = \" + \".join(f\"{A[i][j]}x{j+1}\" for j in range(len(A[i])))\n",
    "    print(f\"{equation} = {b[i]}\")\n",
    "\n",
    "Q, R = QR(A)\n",
    "\n",
    "print(\"Проверка правильности найденного QR разложения\")\n",
    "print(np.dot(Q,R))\n",
    "\n",
    "Q1,R1= np.linalg.qr(A) #проверка встроенной функцией\n",
    "print(Q, '\\n', R)"
   ]
  },
  {
   "cell_type": "code",
   "execution_count": 52,
   "metadata": {},
   "outputs": [
    {
     "name": "stdout",
     "output_type": "stream",
     "text": [
      "n = 4\n",
      "x_n = 1.3115617578674028\n",
      "x_2 = 0.8685349358164705\n",
      "x_1 = 0.06731407074825614\n",
      "x_0 = 0.4448366804914444\n",
      "[0.44483668 0.06731407 0.86853494 1.31156176]\n"
     ]
    }
   ],
   "source": [
    "y=np.dot(Q.T, B) # Решить систему Qy = b, домножением на матрицу Q транспонированную\n",
    "X=rev_sub(R,y) # Решение системы RX = y методом обратной подстановки.\n",
    "\n",
    "X0 = np.linalg.solve(A,B) #проверка встроенной функцией\n",
    "print(X0)"
   ]
  },
  {
   "cell_type": "markdown",
   "metadata": {},
   "source": [
    "# Задание 8"
   ]
  },
  {
   "cell_type": "markdown",
   "metadata": {},
   "source": [
    "Решить систему методом простых итераций с точностью \n",
    "до 0.001\n",
    ". Проверить выполнение достаточного условия \n",
    "сходимости. Если условие не выполняется, в программе \n",
    "выполнить эквивалентные преобразования системы, после \n",
    "этого привести к удобному для итераций виду. Оформить \n",
    "итерации в виде таблицы (можно пользоваться модулями \n",
    "PrettyTable или Pandas). Проверить полученное решение. "
   ]
  },
  {
   "cell_type": "code",
   "execution_count": 53,
   "metadata": {},
   "outputs": [
    {
     "name": "stdout",
     "output_type": "stream",
     "text": [
      "[[ 6.5 -1.7  2.8]\n",
      " [ 4.1  7.8 -1.7]\n",
      " [ 2.7  3.3 10.3]] \n",
      " [[1.7]\n",
      " [0.8]\n",
      " [2.1]]\n"
     ]
    }
   ],
   "source": [
    "A=np.array([\n",
    "    [2.7, 3.3, 10.3],\n",
    "    [6.5, -1.7, 2.8],\n",
    "    [4.1, 7.8, -1.7]\n",
    "])\n",
    "B=np.array([\n",
    "    [2.1],\n",
    "    [1.7],\n",
    "    [0.8]\n",
    "])\n",
    "eps=0.001 #необходимая точность\n",
    "\n",
    "#Матрица не удовлетворяет достаточному условию сходимости\n",
    "#Чтобы привести к нужному виду, поменяем местами строки\n",
    "\n",
    "buffer0=np.array(A[0])\n",
    "buffer1=np.array(A[1])\n",
    "buffer2=np.array(A[2])\n",
    "A[0]= buffer1\n",
    "A[1]= buffer2\n",
    "A[2]= buffer0\n",
    "buffer0=np.array(B[0])\n",
    "buffer1=np.array(B[1])\n",
    "buffer2=np.array(B[2])\n",
    "B[0]= buffer1\n",
    "B[1]= buffer2\n",
    "B[2]= buffer0\n",
    "\n",
    "print( A, \"\\n\", B)"
   ]
  },
  {
   "cell_type": "code",
   "execution_count": 54,
   "metadata": {},
   "outputs": [
    {
     "name": "stdout",
     "output_type": "stream",
     "text": [
      "+---+--------------+--------------+--------------+-----------------------+\n",
      "| k |     x_1      |     x_2      |     x_3      |   norm(x_k - x_k-1)   |\n",
      "+---+--------------+--------------+--------------+-----------------------+\n",
      "| 0 |     [0.]     |     [0.]     |     [0.]     |                       |\n",
      "| 1 | [0.26153846] | [0.1025641]  | [0.2038835]  |  0.34711704307262653  |\n",
      "| 2 | [0.20053618] | [0.0095249]  | [0.10246453] |  0.15054360789327356  |\n",
      "| 3 | [0.21989103] | [0.01948607] | [0.14826409] |  0.05070931685094462  |\n",
      "| 4 | [0.20276721] | [0.01929433] | [0.13999905] |  0.019015065218508174 |\n",
      "| 5 | [0.20627739] | [0.02649395] | [0.14454925] |  0.009211962353052414 |\n",
      "| 6 | [0.20620028] | [0.02564057] | [0.14132243] |  0.003338648122821656 |\n",
      "| 7 | [0.2073671]  | [0.02497782] | [0.14161606] | 0.0013736550971512917 |\n",
      "| 8 | [0.20706728] | [0.02442848] | [0.14152253] |  0.000632777559142533 |\n",
      "+---+--------------+--------------+--------------+-----------------------+\n"
     ]
    }
   ],
   "source": [
    "n=np.size(B)\n",
    "D=np.zeros_like(A) #матрица новой системы, где выражаем каждый x\n",
    "for i in range (n):\n",
    "    for j in range(n):\n",
    "        if i!=j:\n",
    "            D[i,j]=-A[i,j]/A[i,i]\n",
    "    \n",
    "C=np.zeros_like(B)\n",
    "for i in range(n):\n",
    "    C[i]=B[i]/A[i,i]\n",
    "    \n",
    "X_prev=np.array([[0.0],[0.0],[0.0]]) #начальное приближение\n",
    "\n",
    "k=1\n",
    "X=np.dot(D, X_prev)+C #первая итерация\n",
    "err=np.linalg.norm(X-X_prev) #вычисляем погрешность\n",
    "\n",
    "table=PrettyTable()\n",
    "table.field_names=[\"k\", \"x_1\", \"x_2\", \"x_3\", \"norm(x_k - x_k-1)\"]\n",
    "table.add_row([0, X_prev[0], X_prev[1], X_prev[2], \"\"])\n",
    "table.add_row([k, X[0], X[1], X[2], err])\n",
    "\n",
    "\n",
    "while (err>=eps): #вычисление других членов в цикле\n",
    "    X_prev=X\n",
    "    X=np.dot(D, X_prev)+C\n",
    "    err=np.linalg.norm(X-X_prev)\n",
    "    k+=1\n",
    "    table.add_row([k, X[0], X[1], X[2], err])\n",
    "\n",
    "print(table)"
   ]
  },
  {
   "cell_type": "code",
   "execution_count": 55,
   "metadata": {},
   "outputs": [
    {
     "data": {
      "text/plain": [
       "array([[0.20693957],\n",
       "       [0.02467818],\n",
       "       [0.1417306 ]])"
      ]
     },
     "execution_count": 55,
     "metadata": {},
     "output_type": "execute_result"
    }
   ],
   "source": [
    "np.linalg.solve(A, B) #проверяем наше решение"
   ]
  }
 ],
 "metadata": {
  "kernelspec": {
   "display_name": "Python 3",
   "language": "python",
   "name": "python3"
  },
  "language_info": {
   "codemirror_mode": {
    "name": "ipython",
    "version": 3
   },
   "file_extension": ".py",
   "mimetype": "text/x-python",
   "name": "python",
   "nbconvert_exporter": "python",
   "pygments_lexer": "ipython3",
   "version": "3.12.2"
  }
 },
 "nbformat": 4,
 "nbformat_minor": 2
}
