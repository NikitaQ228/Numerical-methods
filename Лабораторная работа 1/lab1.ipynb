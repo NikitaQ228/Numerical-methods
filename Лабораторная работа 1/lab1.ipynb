{
 "cells": [
  {
   "cell_type": "code",
   "execution_count": 10,
   "metadata": {},
   "outputs": [],
   "source": [
    "import math\n",
    "import numpy as np\n",
    "import matplotlib.pyplot as plt\n",
    "from mpl_toolkits.axisartist.axislines import SubplotZero\n",
    "import sympy as sp\n",
    "import scipy as sc\n",
    "from scipy import integrate"
   ]
  },
  {
   "cell_type": "markdown",
   "metadata": {},
   "source": [
    "# Задание 1"
   ]
  },
  {
   "cell_type": "markdown",
   "metadata": {},
   "source": [
    "Используя библиотеку NumPy, создать матрицу 5x5 случайных целых чисел, принадлежащих полуотрезку [0, 10). Транспонировать. Вычислить ее определитель."
   ]
  },
  {
   "cell_type": "code",
   "execution_count": 11,
   "metadata": {},
   "outputs": [
    {
     "name": "stdout",
     "output_type": "stream",
     "text": [
      "Исходная матрица:\n",
      "[[5 7 0 7 2]\n",
      " [1 7 7 9 7]\n",
      " [8 3 9 9 6]\n",
      " [9 9 4 3 3]\n",
      " [0 7 2 8 7]]\n",
      "\n",
      "Транспонированная матрица:\n",
      "[[5 1 8 9 0]\n",
      " [7 7 3 9 7]\n",
      " [0 7 9 4 2]\n",
      " [7 9 9 3 8]\n",
      " [2 7 6 3 7]]\n",
      "\n",
      "Определитель транспонированной матрицы: -12925.000000000015\n"
     ]
    }
   ],
   "source": [
    "# Создание матрицы 5x5 случайных целых чисел от 0 до 9\n",
    "matrix = np.random.randint(0, 10, (5, 5))\n",
    "print(\"Исходная матрица:\")\n",
    "print(matrix)\n",
    "# Транспонирование матрицы\n",
    "transposed_matrix = np.transpose(matrix)\n",
    "print(\"\\nТранспонированная матрица:\")\n",
    "print(transposed_matrix)\n",
    "# Вычисление определителя транспонированной матрицы\n",
    "determinant = np.linalg.det(transposed_matrix)\n",
    "print(f\"\\nОпределитель транспонированной матрицы: {determinant}\")"
   ]
  },
  {
   "cell_type": "markdown",
   "metadata": {},
   "source": [
    "# Задание 2"
   ]
  },
  {
   "cell_type": "markdown",
   "metadata": {},
   "source": [
    "Используя библиотеку NumPy, создать вектор-столбец и\n",
    "матрицу подходящих размеров. Выполнить умножение матриц."
   ]
  },
  {
   "cell_type": "code",
   "execution_count": 12,
   "metadata": {},
   "outputs": [
    {
     "name": "stdout",
     "output_type": "stream",
     "text": [
      "Вектор-столбец:\n",
      "[[1]\n",
      " [2]\n",
      " [3]]\n",
      "\n",
      "Матрица:\n",
      "[[ 4  5  6]\n",
      " [ 7  8  9]\n",
      " [10 11 12]]\n",
      "\n",
      "Результат умножения матрицы на вектор:\n",
      "[[32]\n",
      " [50]\n",
      " [68]]\n"
     ]
    }
   ],
   "source": [
    "# Создание вектор-столбца (3x1)\n",
    "vector_column = np.array([[1], [2], [3]])\n",
    "# Создание матрицы (3x3)\n",
    "matrix = np.array([[4, 5, 6],\n",
    "                   [7, 8, 9],\n",
    "                   [10, 11, 12]])\n",
    "# Умножение матрицы на вектор\n",
    "result = np.dot(matrix, vector_column)\n",
    "print(\"Вектор-столбец:\")\n",
    "print(vector_column)\n",
    "print(\"\\nМатрица:\")\n",
    "print(matrix)\n",
    "print(\"\\nРезультат умножения матрицы на вектор:\")\n",
    "print(result)"
   ]
  },
  {
   "cell_type": "markdown",
   "metadata": {},
   "source": [
    "# Задание 3"
   ]
  },
  {
   "cell_type": "markdown",
   "metadata": {},
   "source": [
    "Используя библиотеку SymPy, упростите выражение\n",
    "$$(2x + 3y)^2 - \\frac{4xy}{3} (x - y)$$\n",
    "и найдите его значение при x = 1.038, y = √7 ."
   ]
  },
  {
   "cell_type": "code",
   "execution_count": 13,
   "metadata": {},
   "outputs": [
    {
     "name": "stdout",
     "output_type": "stream",
     "text": [
      "415.877632000000\n"
     ]
    }
   ],
   "source": [
    "x, y = sp.symbols('x y')\n",
    "expr = (2 * x - 3 * y) ** 2 - 4 * x * y * (x - y) / 3\n",
    "simplified_expr = sp.simplify(expr)\n",
    "value = simplified_expr.subs({x: 1.038, y: 7})\n",
    "print(value)"
   ]
  },
  {
   "cell_type": "markdown",
   "metadata": {},
   "source": [
    "# Задание 4"
   ]
  },
  {
   "cell_type": "markdown",
   "metadata": {},
   "source": [
    "Используя библиотеку SymPy, найдите частные производные от выражения из задания выше."
   ]
  },
  {
   "cell_type": "code",
   "execution_count": 14,
   "metadata": {},
   "outputs": [
    {
     "name": "stdout",
     "output_type": "stream",
     "text": [
      "Частная производная по x:\n",
      "-4*x*y/3 + 8*x - 4*y*(x - y)/3 - 12*y\n",
      "\n",
      "Частная производная по y:\n",
      "4*x*y/3 - 4*x*(x - y)/3 - 12*x + 18*y\n"
     ]
    }
   ],
   "source": [
    "# Создание символьных переменных x и y\n",
    "x, y = sp.symbols('x y')\n",
    "# Задание выражения\n",
    "expression = (2 * x - 3 * y) ** 2 - 4 * x * y * (x - y) / 3\n",
    "# Нахождение частных производных\n",
    "partial_derivative_x = sp.diff(expression, x)\n",
    "partial_derivative_y = sp.diff(expression, y)\n",
    "print(\"Частная производная по x:\")\n",
    "print(partial_derivative_x)\n",
    "print(\"\\nЧастная производная по y:\")\n",
    "print(partial_derivative_y)"
   ]
  },
  {
   "cell_type": "markdown",
   "metadata": {},
   "source": [
    "# Задание 5"
   ]
  },
  {
   "cell_type": "markdown",
   "metadata": {},
   "source": [
    "Решить систему уравнений двумя способами: используя библиотеку NumPy и библиотеку SymPy.\n",
    "$$\\begin{equation*}\n",
    " \\begin{cases}\n",
    "x_1 - x_3 &= 1 \\\\\\\\\n",
    "-x_1 - x_2 + 3x_3 &= -3 \\\\\\\\\n",
    "x_1 - 2x_2 - 4x_3 &= 5\n",
    " \\end{cases}\n",
    "\\end{equation*} $$"
   ]
  },
  {
   "cell_type": "code",
   "execution_count": 15,
   "metadata": {},
   "outputs": [
    {
     "name": "stdout",
     "output_type": "stream",
     "text": [
      "{x1: -1/7, x2: -2/7, x3: -8/7}\n",
      "[-0.14285714 -0.28571429 -1.14285714]\n"
     ]
    }
   ],
   "source": [
    "x1, x2, x3 = sp.symbols('x1 x2 x3')\n",
    "eq1 = x1 - x3 - 1\n",
    "eq2 = -x1 -x2 + 3*x3 + 3\n",
    "eq3 = x1 - 2*x2 - 4*x3 - 5\n",
    "solution_sympy = sp.solve((eq1, eq2, eq3), (x1, x2, x3))\n",
    "print(solution_sympy)\n",
    "coefficients = np.array([[1, 0, -1], [-1, -1, 3], [1, -2, -4]])\n",
    "constants = np.array([1, -3, 5])\n",
    "solution_numpy = np.linalg.solve(coefficients, constants)\n",
    "print(solution_numpy)"
   ]
  },
  {
   "cell_type": "markdown",
   "metadata": {},
   "source": [
    "# Задание 6"
   ]
  },
  {
   "cell_type": "markdown",
   "metadata": {},
   "source": [
    "Вычислить интеграл двумя способами: используя библиотеку SciPy и библиотеку SymPy.\n",
    "$$ \\int_{0}^{1} ({\\sqrt{x}} + x^\\frac{2}{3}) \\, dx  $$"
   ]
  },
  {
   "cell_type": "code",
   "execution_count": 16,
   "metadata": {},
   "outputs": [
    {
     "name": "stdout",
     "output_type": "stream",
     "text": [
      "Интеграл с помощью SciPy: 1.2666666666666673\n",
      "Интеграл с помощью SymPy: 1.26666666666667\n"
     ]
    }
   ],
   "source": [
    "# Вычисляем интеграл численно\n",
    "result_scipy, _ = sc.integrate.quad(lambda x: x ** (1/2) + x ** (2/3), 0, 1)\n",
    "print(\"Интеграл с помощью SciPy:\", result_scipy)\n",
    "# Создаем символьную переменную\n",
    "x = sp.symbols('x')\n",
    "# Вычисляем интеграл символьно\n",
    "result_sympy = sp.integrate(x ** (1/2) + x ** (2/3), (x, 0, 1))\n",
    "print(\"Интеграл с помощью SymPy:\", result_sympy)"
   ]
  },
  {
   "cell_type": "markdown",
   "metadata": {},
   "source": [
    "# Задание 7"
   ]
  },
  {
   "cell_type": "markdown",
   "metadata": {},
   "source": [
    "Вычислить интеграл двумя способами: используя библиотеку SciPy и библиотеку SymPy.\n",
    "$$\n",
    "\\int_{1}^{-1} dy \\int_{y}^{2y} (x - y) e^y dx\n",
    "$$"
   ]
  },
  {
   "cell_type": "code",
   "execution_count": 17,
   "metadata": {},
   "outputs": [
    {
     "name": "stdout",
     "output_type": "stream",
     "text": [
      "-0.4394423113009168\n"
     ]
    }
   ],
   "source": [
    "def f(x,y):\n",
    "    return (x - y)*math.exp(1)**y\n",
    "def h(x):\n",
    "    return x\n",
    "def g(x):\n",
    "    return 2*x\n",
    "v, err = integrate.dblquad(f,-1,1,g,h)\n",
    "print(v)"
   ]
  },
  {
   "cell_type": "markdown",
   "metadata": {},
   "source": [
    "# Задание 8"
   ]
  },
  {
   "cell_type": "markdown",
   "metadata": {},
   "source": [
    "Построить в одной системе координат графики функций:\n",
    "$$ \\begin{equation*}\n",
    " \\begin{cases}\n",
    "y = sin(x) \\\\\n",
    "y = \\sqrt{x + 5}\n",
    " \\end{cases}\n",
    "\\end{equation*} $$\n",
    "Оси координат должны быть подписаны, графики \n",
    "должны быть разного цвета, должна быть выведена легенда. Точку \n",
    "пересечения (если она есть) выделить на графике оранжевым цветом."
   ]
  },
  {
   "cell_type": "code",
   "execution_count": 18,
   "metadata": {},
   "outputs": [
    {
     "data": {
      "image/png": "[encoded data removed]",
      "text/plain": [
       "<Figure size 640x400 with 1 Axes>"
      ]
     },
     "metadata": {},
     "output_type": "display_data"
    }
   ],
   "source": [
    "plt.figure(figsize = (8, 5), dpi = 80)\n",
    "ax = plt.subplot(111)\n",
    "ax.spines['right'].set_color('none')\n",
    "ax.spines['top'].set_color('none')\n",
    "ax.xaxis.set_ticks_position('bottom')\n",
    "ax.spines['bottom'].set_position(('data', 0))\n",
    "ax.yaxis.set_ticks_position('left')\n",
    "ax.spines['left'].set_position(('data', 0))\n",
    "X = np.linspace(-5, 2 * np.pi, 512, endpoint=True)\n",
    "C, L = 3 * np.sin(X) , np.sqrt(X + 5)\n",
    "plt.plot(X, C, color=\"blue\", linewidth=2.5, linestyle=\"-\", label=\"Sin Function\")\n",
    "plt.plot(X, L, color=\"red\", linewidth=2.5, linestyle=\"-\", label=\"Sqrt Function\")\n",
    "plt.xlim(X.min() * 1.1, X.max() * 1.1)\n",
    "plt.xticks([-2 * np.pi, -3 * np.pi / 2, -np.pi, -np.pi / 2, 0, np.pi / 2, np.pi, 3 * np.pi / 2, 2 * np.pi],\n",
    "           [r'$-2\\pi$', r'$-3\\pi/2$', r'$-\\pi$', r'$-\\pi/2$', r'$0$', r'$+\\pi/2$', r'$+\\pi$', r'$+3 \\pi/2$',\n",
    "            r'$+ 2\\pi$'])\n",
    "ax.set_xlabel(\"Y\", fontsize=15, color='black', labelpad=-190)  # +\n",
    "ax.set_ylabel(\"X\", fontsize=15, color='black', labelpad=-270, rotation = 0)\n",
    "ax.xaxis.set_ticks_position('bottom')\n",
    "ax.yaxis.set_ticks_position('left')\n",
    "# Добавление точки пересечения\n",
    "idx = np.argwhere(np.diff(np.sign(C - L))).flatten()\n",
    "plt.plot(X[idx], C[idx], 'o', color = 'orange')\n",
    "plt.legend(loc='upper left', frameon=False)\n",
    "plt.grid()\n",
    "plt.show()"
   ]
  }
 ],
 "metadata": {
  "kernelspec": {
   "display_name": "Python 3",
   "language": "python",
   "name": "python3"
  },
  "language_info": {
   "codemirror_mode": {
    "name": "ipython",
    "version": 3
   },
   "file_extension": ".py",
   "mimetype": "text/x-python",
   "name": "python",
   "nbconvert_exporter": "python",
   "pygments_lexer": "ipython3",
   "version": "3.12.2"
  }
 },
 "nbformat": 4,
 "nbformat_minor": 2
}
